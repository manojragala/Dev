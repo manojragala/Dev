{
 "cells": [
  {
   "cell_type": "code",
   "execution_count": 1,
   "metadata": {},
   "outputs": [
    {
     "name": "stderr",
     "output_type": "stream",
     "text": [
      "C:\\Users\\manoj\\Anaconda3\\lib\\importlib\\_bootstrap.py:219: RuntimeWarning: numpy.ufunc size changed, may indicate binary incompatibility. Expected 192 from C header, got 216 from PyObject\n",
      "  return f(*args, **kwds)\n"
     ]
    }
   ],
   "source": [
    "import numpy as np\n",
    "import pandas as pd\n",
    "import matplotlib.pyplot as plt\n",
    "%matplotlib inline\n",
    "import seaborn as sns\n",
    "from tensorflow.keras.models import Sequential\n",
    "from tensorflow.keras.layers import Activation,Dense,Flatten,RNN,LSTM\n",
    "from tensorflow.keras.utils import normalize,to_categorical\n",
    "from sklearn.metrics import mean_squared_error\n",
    "from sklearn.preprocessing import minmax_scale\n",
    "\n",
    "df=pd.read_csv('airline.csv',index_col=0)\n",
    "\n",
    "df.shape\n",
    "\n",
    "df.index=pd.to_datetime(df.index)"
   ]
  },
  {
   "cell_type": "code",
   "execution_count": 8,
   "metadata": {},
   "outputs": [
    {
     "data": {
      "text/html": [
       "<div>\n",
       "<style scoped>\n",
       "    .dataframe tbody tr th:only-of-type {\n",
       "        vertical-align: middle;\n",
       "    }\n",
       "\n",
       "    .dataframe tbody tr th {\n",
       "        vertical-align: top;\n",
       "    }\n",
       "\n",
       "    .dataframe thead th {\n",
       "        text-align: right;\n",
       "    }\n",
       "</style>\n",
       "<table border=\"1\" class=\"dataframe\">\n",
       "  <thead>\n",
       "    <tr style=\"text-align: right;\">\n",
       "      <th></th>\n",
       "      <th>Passengers</th>\n",
       "    </tr>\n",
       "    <tr>\n",
       "      <th>Month</th>\n",
       "      <th></th>\n",
       "    </tr>\n",
       "  </thead>\n",
       "  <tbody>\n",
       "    <tr>\n",
       "      <td>1949-01-01</td>\n",
       "      <td>112</td>\n",
       "    </tr>\n",
       "    <tr>\n",
       "      <td>1949-02-01</td>\n",
       "      <td>118</td>\n",
       "    </tr>\n",
       "    <tr>\n",
       "      <td>1949-03-01</td>\n",
       "      <td>132</td>\n",
       "    </tr>\n",
       "    <tr>\n",
       "      <td>1949-04-01</td>\n",
       "      <td>129</td>\n",
       "    </tr>\n",
       "    <tr>\n",
       "      <td>1949-05-01</td>\n",
       "      <td>121</td>\n",
       "    </tr>\n",
       "  </tbody>\n",
       "</table>\n",
       "</div>"
      ],
      "text/plain": [
       "            Passengers\n",
       "Month                 \n",
       "1949-01-01         112\n",
       "1949-02-01         118\n",
       "1949-03-01         132\n",
       "1949-04-01         129\n",
       "1949-05-01         121"
      ]
     },
     "execution_count": 8,
     "metadata": {},
     "output_type": "execute_result"
    }
   ],
   "source": [
    "df.head()"
   ]
  },
  {
   "cell_type": "code",
   "execution_count": 20,
   "metadata": {},
   "outputs": [],
   "source": [
    "df['normal']=normalize(df['Passengers'].values)[0]\n",
    "df['mmscale']=minmax_scale(df['Passengers'].values)"
   ]
  },
  {
   "cell_type": "code",
   "execution_count": 21,
   "metadata": {},
   "outputs": [
    {
     "data": {
      "text/html": [
       "<div>\n",
       "<style scoped>\n",
       "    .dataframe tbody tr th:only-of-type {\n",
       "        vertical-align: middle;\n",
       "    }\n",
       "\n",
       "    .dataframe tbody tr th {\n",
       "        vertical-align: top;\n",
       "    }\n",
       "\n",
       "    .dataframe thead th {\n",
       "        text-align: right;\n",
       "    }\n",
       "</style>\n",
       "<table border=\"1\" class=\"dataframe\">\n",
       "  <thead>\n",
       "    <tr style=\"text-align: right;\">\n",
       "      <th></th>\n",
       "      <th>Passengers</th>\n",
       "      <th>normal</th>\n",
       "      <th>mmscale</th>\n",
       "    </tr>\n",
       "    <tr>\n",
       "      <th>Month</th>\n",
       "      <th></th>\n",
       "      <th></th>\n",
       "      <th></th>\n",
       "    </tr>\n",
       "  </thead>\n",
       "  <tbody>\n",
       "    <tr>\n",
       "      <td>1949-01-01</td>\n",
       "      <td>112</td>\n",
       "      <td>0.030628</td>\n",
       "      <td>0.015444</td>\n",
       "    </tr>\n",
       "    <tr>\n",
       "      <td>1949-02-01</td>\n",
       "      <td>118</td>\n",
       "      <td>0.032269</td>\n",
       "      <td>0.027027</td>\n",
       "    </tr>\n",
       "    <tr>\n",
       "      <td>1949-03-01</td>\n",
       "      <td>132</td>\n",
       "      <td>0.036098</td>\n",
       "      <td>0.054054</td>\n",
       "    </tr>\n",
       "    <tr>\n",
       "      <td>1949-04-01</td>\n",
       "      <td>129</td>\n",
       "      <td>0.035277</td>\n",
       "      <td>0.048263</td>\n",
       "    </tr>\n",
       "    <tr>\n",
       "      <td>1949-05-01</td>\n",
       "      <td>121</td>\n",
       "      <td>0.033090</td>\n",
       "      <td>0.032819</td>\n",
       "    </tr>\n",
       "  </tbody>\n",
       "</table>\n",
       "</div>"
      ],
      "text/plain": [
       "            Passengers    normal   mmscale\n",
       "Month                                     \n",
       "1949-01-01         112  0.030628  0.015444\n",
       "1949-02-01         118  0.032269  0.027027\n",
       "1949-03-01         132  0.036098  0.054054\n",
       "1949-04-01         129  0.035277  0.048263\n",
       "1949-05-01         121  0.033090  0.032819"
      ]
     },
     "execution_count": 21,
     "metadata": {},
     "output_type": "execute_result"
    }
   ],
   "source": [
    "df.head()"
   ]
  },
  {
   "cell_type": "code",
   "execution_count": 24,
   "metadata": {},
   "outputs": [],
   "source": [
    "train=df.normal.values[:int(0.67*len(df))]\n",
    "test=df.normal.values[int(0.67*len(df)):]"
   ]
  },
  {
   "cell_type": "code",
   "execution_count": 27,
   "metadata": {},
   "outputs": [
    {
     "data": {
      "text/plain": [
       "array([0.03062839, 0.03226919, 0.03609774, 0.03527734, 0.0330896 ,\n",
       "       0.03691814, 0.04047322, 0.04047322, 0.03719161, 0.03254266,\n",
       "       0.02844064, 0.03226919, 0.03144879, 0.03445693, 0.03855895,\n",
       "       0.03691814, 0.03418347, 0.04074669, 0.04648951, 0.04648951,\n",
       "       0.0432079 , 0.03637121, 0.03117532, 0.03828548, 0.03965282,\n",
       "       0.04102016, 0.04867726, 0.04457524, 0.04703645, 0.04867726,\n",
       "       0.05442008, 0.05442008, 0.05031806, 0.04430177, 0.03992629,\n",
       "       0.04539564, 0.04676298, 0.04922419, 0.05277927, 0.04949766,\n",
       "       0.05004459, 0.05961597, 0.06289758, 0.06617919, 0.05715476,\n",
       "       0.05223234, 0.04703645, 0.05305274, 0.05359968, 0.05359968,\n",
       "       0.06453838, 0.06426492, 0.06262411, 0.06645266, 0.07219548,\n",
       "       0.07438322, 0.06481185, 0.05770169, 0.04922419, 0.05496701,\n",
       "       0.05578742, 0.05141193, 0.06426492, 0.06207717, 0.06399145,\n",
       "       0.07219548, 0.08258725, 0.08012605, 0.07082814, 0.06262411,\n",
       "       0.05551395, 0.06262411, 0.06617919, 0.06371798, 0.07301588,\n",
       "       0.07356282, 0.07383629, 0.08614234, 0.09954225, 0.0948933 ,\n",
       "       0.08532193, 0.07493016, 0.06481185, 0.07602403, 0.07766484,\n",
       "       0.07575056, 0.08668927, 0.0855954 , 0.08696274, 0.10227693,\n",
       "       0.11294217, 0.11075443, 0.09708104, 0.08368113, 0.07410976,\n",
       "       0.08368113])"
      ]
     },
     "execution_count": 27,
     "metadata": {},
     "output_type": "execute_result"
    }
   ],
   "source": [
    "train"
   ]
  },
  {
   "cell_type": "code",
   "execution_count": 28,
   "metadata": {},
   "outputs": [
    {
     "data": {
      "text/plain": [
       "array([0.08614234, 0.08231379, 0.09735451, 0.09516677, 0.09708104,\n",
       "       0.11540338, 0.12716249, 0.12770943, 0.11048096, 0.0948933 ,\n",
       "       0.08340766, 0.09188516, 0.09297903, 0.08696274, 0.09899532,\n",
       "       0.09516677, 0.09926879, 0.11895846, 0.13427266, 0.1381012 ,\n",
       "       0.11048096, 0.09817492, 0.084775  , 0.09215863, 0.09844838,\n",
       "       0.09352596, 0.1110279 , 0.10829322, 0.11485645, 0.12907677,\n",
       "       0.14986032, 0.15286846, 0.12661556, 0.11130137, 0.09899532,\n",
       "       0.11075443, 0.11403604, 0.10692588, 0.11458298, 0.12606862,\n",
       "       0.12907677, 0.14630524, 0.17009693, 0.16572144, 0.13892161,\n",
       "       0.12606862, 0.10665242, 0.11813806])"
      ]
     },
     "execution_count": 28,
     "metadata": {},
     "output_type": "execute_result"
    }
   ],
   "source": [
    "test"
   ]
  },
  {
   "cell_type": "code",
   "execution_count": 63,
   "metadata": {},
   "outputs": [
    {
     "ename": "ValueError",
     "evalue": "Expected 2D array, got 1D array instead:\narray=[1. 2. 3. 4.].\nReshape your data either using array.reshape(-1, 1) if your data has a single feature or array.reshape(1, -1) if it contains a single sample.",
     "output_type": "error",
     "traceback": [
      "\u001b[1;31m---------------------------------------------------------------------------\u001b[0m",
      "\u001b[1;31mValueError\u001b[0m                                Traceback (most recent call last)",
      "\u001b[1;32m<ipython-input-63-efd5dab10b8d>\u001b[0m in \u001b[0;36m<module>\u001b[1;34m\u001b[0m\n\u001b[1;32m----> 1\u001b[1;33m \u001b[0mscaler\u001b[0m\u001b[1;33m.\u001b[0m\u001b[0mfit_transform\u001b[0m\u001b[1;33m(\u001b[0m\u001b[1;33m[\u001b[0m\u001b[1;36m1\u001b[0m\u001b[1;33m,\u001b[0m\u001b[1;36m2\u001b[0m\u001b[1;33m,\u001b[0m\u001b[1;36m3\u001b[0m\u001b[1;33m,\u001b[0m\u001b[1;36m4\u001b[0m\u001b[1;33m]\u001b[0m\u001b[1;33m)\u001b[0m\u001b[1;33m\u001b[0m\u001b[1;33m\u001b[0m\u001b[0m\n\u001b[0m",
      "\u001b[1;32m~\\Anaconda3\\lib\\site-packages\\sklearn\\base.py\u001b[0m in \u001b[0;36mfit_transform\u001b[1;34m(self, X, y, **fit_params)\u001b[0m\n\u001b[0;32m    551\u001b[0m         \u001b[1;32mif\u001b[0m \u001b[0my\u001b[0m \u001b[1;32mis\u001b[0m \u001b[1;32mNone\u001b[0m\u001b[1;33m:\u001b[0m\u001b[1;33m\u001b[0m\u001b[1;33m\u001b[0m\u001b[0m\n\u001b[0;32m    552\u001b[0m             \u001b[1;31m# fit method of arity 1 (unsupervised transformation)\u001b[0m\u001b[1;33m\u001b[0m\u001b[1;33m\u001b[0m\u001b[1;33m\u001b[0m\u001b[0m\n\u001b[1;32m--> 553\u001b[1;33m             \u001b[1;32mreturn\u001b[0m \u001b[0mself\u001b[0m\u001b[1;33m.\u001b[0m\u001b[0mfit\u001b[0m\u001b[1;33m(\u001b[0m\u001b[0mX\u001b[0m\u001b[1;33m,\u001b[0m \u001b[1;33m**\u001b[0m\u001b[0mfit_params\u001b[0m\u001b[1;33m)\u001b[0m\u001b[1;33m.\u001b[0m\u001b[0mtransform\u001b[0m\u001b[1;33m(\u001b[0m\u001b[0mX\u001b[0m\u001b[1;33m)\u001b[0m\u001b[1;33m\u001b[0m\u001b[1;33m\u001b[0m\u001b[0m\n\u001b[0m\u001b[0;32m    554\u001b[0m         \u001b[1;32melse\u001b[0m\u001b[1;33m:\u001b[0m\u001b[1;33m\u001b[0m\u001b[1;33m\u001b[0m\u001b[0m\n\u001b[0;32m    555\u001b[0m             \u001b[1;31m# fit method of arity 2 (supervised transformation)\u001b[0m\u001b[1;33m\u001b[0m\u001b[1;33m\u001b[0m\u001b[1;33m\u001b[0m\u001b[0m\n",
      "\u001b[1;32m~\\Anaconda3\\lib\\site-packages\\sklearn\\preprocessing\\data.py\u001b[0m in \u001b[0;36mfit\u001b[1;34m(self, X, y)\u001b[0m\n\u001b[0;32m    323\u001b[0m         \u001b[1;31m# Reset internal state before fitting\u001b[0m\u001b[1;33m\u001b[0m\u001b[1;33m\u001b[0m\u001b[1;33m\u001b[0m\u001b[0m\n\u001b[0;32m    324\u001b[0m         \u001b[0mself\u001b[0m\u001b[1;33m.\u001b[0m\u001b[0m_reset\u001b[0m\u001b[1;33m(\u001b[0m\u001b[1;33m)\u001b[0m\u001b[1;33m\u001b[0m\u001b[1;33m\u001b[0m\u001b[0m\n\u001b[1;32m--> 325\u001b[1;33m         \u001b[1;32mreturn\u001b[0m \u001b[0mself\u001b[0m\u001b[1;33m.\u001b[0m\u001b[0mpartial_fit\u001b[0m\u001b[1;33m(\u001b[0m\u001b[0mX\u001b[0m\u001b[1;33m,\u001b[0m \u001b[0my\u001b[0m\u001b[1;33m)\u001b[0m\u001b[1;33m\u001b[0m\u001b[1;33m\u001b[0m\u001b[0m\n\u001b[0m\u001b[0;32m    326\u001b[0m \u001b[1;33m\u001b[0m\u001b[0m\n\u001b[0;32m    327\u001b[0m     \u001b[1;32mdef\u001b[0m \u001b[0mpartial_fit\u001b[0m\u001b[1;33m(\u001b[0m\u001b[0mself\u001b[0m\u001b[1;33m,\u001b[0m \u001b[0mX\u001b[0m\u001b[1;33m,\u001b[0m \u001b[0my\u001b[0m\u001b[1;33m=\u001b[0m\u001b[1;32mNone\u001b[0m\u001b[1;33m)\u001b[0m\u001b[1;33m:\u001b[0m\u001b[1;33m\u001b[0m\u001b[1;33m\u001b[0m\u001b[0m\n",
      "\u001b[1;32m~\\Anaconda3\\lib\\site-packages\\sklearn\\preprocessing\\data.py\u001b[0m in \u001b[0;36mpartial_fit\u001b[1;34m(self, X, y)\u001b[0m\n\u001b[0;32m    351\u001b[0m         X = check_array(X, copy=self.copy,\n\u001b[0;32m    352\u001b[0m                         \u001b[0mestimator\u001b[0m\u001b[1;33m=\u001b[0m\u001b[0mself\u001b[0m\u001b[1;33m,\u001b[0m \u001b[0mdtype\u001b[0m\u001b[1;33m=\u001b[0m\u001b[0mFLOAT_DTYPES\u001b[0m\u001b[1;33m,\u001b[0m\u001b[1;33m\u001b[0m\u001b[1;33m\u001b[0m\u001b[0m\n\u001b[1;32m--> 353\u001b[1;33m                         force_all_finite=\"allow-nan\")\n\u001b[0m\u001b[0;32m    354\u001b[0m \u001b[1;33m\u001b[0m\u001b[0m\n\u001b[0;32m    355\u001b[0m         \u001b[0mdata_min\u001b[0m \u001b[1;33m=\u001b[0m \u001b[0mnp\u001b[0m\u001b[1;33m.\u001b[0m\u001b[0mnanmin\u001b[0m\u001b[1;33m(\u001b[0m\u001b[0mX\u001b[0m\u001b[1;33m,\u001b[0m \u001b[0maxis\u001b[0m\u001b[1;33m=\u001b[0m\u001b[1;36m0\u001b[0m\u001b[1;33m)\u001b[0m\u001b[1;33m\u001b[0m\u001b[1;33m\u001b[0m\u001b[0m\n",
      "\u001b[1;32m~\\Anaconda3\\lib\\site-packages\\sklearn\\utils\\validation.py\u001b[0m in \u001b[0;36mcheck_array\u001b[1;34m(array, accept_sparse, accept_large_sparse, dtype, order, copy, force_all_finite, ensure_2d, allow_nd, ensure_min_samples, ensure_min_features, warn_on_dtype, estimator)\u001b[0m\n\u001b[0;32m    519\u001b[0m                     \u001b[1;34m\"Reshape your data either using array.reshape(-1, 1) if \"\u001b[0m\u001b[1;33m\u001b[0m\u001b[1;33m\u001b[0m\u001b[0m\n\u001b[0;32m    520\u001b[0m                     \u001b[1;34m\"your data has a single feature or array.reshape(1, -1) \"\u001b[0m\u001b[1;33m\u001b[0m\u001b[1;33m\u001b[0m\u001b[0m\n\u001b[1;32m--> 521\u001b[1;33m                     \"if it contains a single sample.\".format(array))\n\u001b[0m\u001b[0;32m    522\u001b[0m \u001b[1;33m\u001b[0m\u001b[0m\n\u001b[0;32m    523\u001b[0m         \u001b[1;31m# in the future np.flexible dtypes will be handled like object dtypes\u001b[0m\u001b[1;33m\u001b[0m\u001b[1;33m\u001b[0m\u001b[1;33m\u001b[0m\u001b[0m\n",
      "\u001b[1;31mValueError\u001b[0m: Expected 2D array, got 1D array instead:\narray=[1. 2. 3. 4.].\nReshape your data either using array.reshape(-1, 1) if your data has a single feature or array.reshape(1, -1) if it contains a single sample."
     ]
    }
   ],
   "source": [
    "scaler.fit_transform([1,2,3,4])"
   ]
  },
  {
   "cell_type": "code",
   "execution_count": 31,
   "metadata": {},
   "outputs": [],
   "source": [
    "def getDatasets(d,lookback=1) :\n",
    "    x,y=[],[]\n",
    "    for i in range(lookback,len(d)-lookback) :\n",
    "        x.append(d[i-lookback:i])\n",
    "        y.append(d[i])\n",
    "    return np.array(x),np.array(y)"
   ]
  },
  {
   "cell_type": "code",
   "execution_count": 35,
   "metadata": {},
   "outputs": [],
   "source": [
    "x_train,y_train=getDatasets(train,1)\n",
    "x_test,y_test=getDatasets(test,1)"
   ]
  },
  {
   "cell_type": "code",
   "execution_count": 36,
   "metadata": {},
   "outputs": [
    {
     "data": {
      "text/plain": [
       "(94, 1)"
      ]
     },
     "execution_count": 36,
     "metadata": {},
     "output_type": "execute_result"
    }
   ],
   "source": [
    "x_train.shape"
   ]
  },
  {
   "cell_type": "code",
   "execution_count": 37,
   "metadata": {},
   "outputs": [
    {
     "data": {
      "text/plain": [
       "(94,)"
      ]
     },
     "execution_count": 37,
     "metadata": {},
     "output_type": "execute_result"
    }
   ],
   "source": [
    "y_train.shape"
   ]
  },
  {
   "cell_type": "code",
   "execution_count": 38,
   "metadata": {},
   "outputs": [
    {
     "data": {
      "text/plain": [
       "(46, 1)"
      ]
     },
     "execution_count": 38,
     "metadata": {},
     "output_type": "execute_result"
    }
   ],
   "source": [
    "x_test.shape"
   ]
  },
  {
   "cell_type": "code",
   "execution_count": 39,
   "metadata": {},
   "outputs": [
    {
     "data": {
      "text/plain": [
       "(46,)"
      ]
     },
     "execution_count": 39,
     "metadata": {},
     "output_type": "execute_result"
    }
   ],
   "source": [
    "y_test.shape"
   ]
  },
  {
   "cell_type": "code",
   "execution_count": 70,
   "metadata": {
    "scrolled": true
   },
   "outputs": [
    {
     "name": "stdout",
     "output_type": "stream",
     "text": [
      "Train on 72 samples\n",
      "Epoch 1/100\n",
      "72/72 - 5s - loss: 0.0175\n",
      "Epoch 2/100\n",
      "72/72 - 0s - loss: 0.0050\n",
      "Epoch 3/100\n",
      "72/72 - 0s - loss: 0.0044\n",
      "Epoch 4/100\n",
      "72/72 - 0s - loss: 0.0041\n",
      "Epoch 5/100\n",
      "72/72 - 0s - loss: 0.0038\n",
      "Epoch 6/100\n",
      "72/72 - 0s - loss: 0.0035\n",
      "Epoch 7/100\n",
      "72/72 - 0s - loss: 0.0034\n",
      "Epoch 8/100\n",
      "72/72 - 0s - loss: 0.0032\n",
      "Epoch 9/100\n",
      "72/72 - 0s - loss: 0.0030\n",
      "Epoch 10/100\n",
      "72/72 - 0s - loss: 0.0030\n",
      "Epoch 11/100\n",
      "72/72 - 0s - loss: 0.0027\n",
      "Epoch 12/100\n",
      "72/72 - 0s - loss: 0.0026\n",
      "Epoch 13/100\n",
      "72/72 - 0s - loss: 0.0025\n",
      "Epoch 14/100\n",
      "72/72 - 0s - loss: 0.0024\n",
      "Epoch 15/100\n",
      "72/72 - 0s - loss: 0.0024\n",
      "Epoch 16/100\n",
      "72/72 - 0s - loss: 0.0021\n",
      "Epoch 17/100\n",
      "72/72 - 0s - loss: 0.0020\n",
      "Epoch 18/100\n",
      "72/72 - 0s - loss: 0.0019\n",
      "Epoch 19/100\n",
      "72/72 - 0s - loss: 0.0019\n",
      "Epoch 20/100\n",
      "72/72 - 0s - loss: 0.0017\n",
      "Epoch 21/100\n",
      "72/72 - 0s - loss: 0.0016\n",
      "Epoch 22/100\n",
      "72/72 - 0s - loss: 0.0015\n",
      "Epoch 23/100\n",
      "72/72 - 0s - loss: 0.0014\n",
      "Epoch 24/100\n",
      "72/72 - 0s - loss: 0.0015\n",
      "Epoch 25/100\n",
      "72/72 - 0s - loss: 0.0013\n",
      "Epoch 26/100\n",
      "72/72 - 0s - loss: 0.0013\n",
      "Epoch 27/100\n",
      "72/72 - 0s - loss: 0.0012\n",
      "Epoch 28/100\n",
      "72/72 - 0s - loss: 0.0011\n",
      "Epoch 29/100\n",
      "72/72 - 0s - loss: 0.0011\n",
      "Epoch 30/100\n",
      "72/72 - 0s - loss: 9.8666e-04\n",
      "Epoch 31/100\n",
      "72/72 - 0s - loss: 0.0010\n",
      "Epoch 32/100\n",
      "72/72 - 0s - loss: 0.0011\n",
      "Epoch 33/100\n",
      "72/72 - 0s - loss: 9.1027e-04\n",
      "Epoch 34/100\n",
      "72/72 - 0s - loss: 8.6860e-04\n",
      "Epoch 35/100\n",
      "72/72 - 0s - loss: 8.6843e-04\n",
      "Epoch 36/100\n",
      "72/72 - 0s - loss: 8.8588e-04\n",
      "Epoch 37/100\n",
      "72/72 - 0s - loss: 7.8964e-04\n",
      "Epoch 38/100\n",
      "72/72 - 0s - loss: 8.5748e-04\n",
      "Epoch 39/100\n",
      "72/72 - 0s - loss: 7.8091e-04\n",
      "Epoch 40/100\n",
      "72/72 - 0s - loss: 7.5757e-04\n",
      "Epoch 41/100\n",
      "72/72 - 0s - loss: 8.0033e-04\n",
      "Epoch 42/100\n",
      "72/72 - 0s - loss: 7.3830e-04\n",
      "Epoch 43/100\n",
      "72/72 - 0s - loss: 7.4226e-04\n",
      "Epoch 44/100\n",
      "72/72 - 0s - loss: 6.9876e-04\n",
      "Epoch 45/100\n",
      "72/72 - 0s - loss: 6.7142e-04\n",
      "Epoch 46/100\n",
      "72/72 - 0s - loss: 7.0317e-04\n",
      "Epoch 47/100\n",
      "72/72 - 0s - loss: 7.4329e-04\n",
      "Epoch 48/100\n",
      "72/72 - 0s - loss: 6.7831e-04\n",
      "Epoch 49/100\n",
      "72/72 - 0s - loss: 7.0154e-04\n",
      "Epoch 50/100\n",
      "72/72 - 0s - loss: 6.6685e-04\n",
      "Epoch 51/100\n",
      "72/72 - 0s - loss: 6.5549e-04\n",
      "Epoch 52/100\n",
      "72/72 - 0s - loss: 6.9265e-04\n",
      "Epoch 53/100\n",
      "72/72 - 0s - loss: 6.7262e-04\n",
      "Epoch 54/100\n",
      "72/72 - 0s - loss: 6.5895e-04\n",
      "Epoch 55/100\n",
      "72/72 - 0s - loss: 6.7825e-04\n",
      "Epoch 56/100\n",
      "72/72 - 0s - loss: 6.5317e-04\n",
      "Epoch 57/100\n",
      "72/72 - 0s - loss: 6.5076e-04\n",
      "Epoch 58/100\n",
      "72/72 - 0s - loss: 7.1286e-04\n",
      "Epoch 59/100\n",
      "72/72 - 0s - loss: 6.7604e-04\n",
      "Epoch 60/100\n",
      "72/72 - 0s - loss: 7.5374e-04\n",
      "Epoch 61/100\n",
      "72/72 - 0s - loss: 7.8478e-04\n",
      "Epoch 62/100\n",
      "72/72 - 0s - loss: 6.3950e-04\n",
      "Epoch 63/100\n",
      "72/72 - 0s - loss: 6.5418e-04\n",
      "Epoch 64/100\n",
      "72/72 - 0s - loss: 6.6175e-04\n",
      "Epoch 65/100\n",
      "72/72 - 0s - loss: 6.7708e-04\n",
      "Epoch 66/100\n",
      "72/72 - 0s - loss: 6.3495e-04\n",
      "Epoch 67/100\n",
      "72/72 - 0s - loss: 6.3589e-04\n",
      "Epoch 68/100\n",
      "72/72 - 0s - loss: 6.3792e-04\n",
      "Epoch 69/100\n",
      "72/72 - 0s - loss: 6.9376e-04\n",
      "Epoch 70/100\n",
      "72/72 - 0s - loss: 7.2455e-04\n",
      "Epoch 71/100\n",
      "72/72 - 0s - loss: 6.4327e-04\n",
      "Epoch 72/100\n",
      "72/72 - 0s - loss: 6.2978e-04\n",
      "Epoch 73/100\n",
      "72/72 - 0s - loss: 6.2677e-04\n",
      "Epoch 74/100\n",
      "72/72 - 0s - loss: 6.1613e-04\n",
      "Epoch 75/100\n",
      "72/72 - 0s - loss: 6.3328e-04\n",
      "Epoch 76/100\n",
      "72/72 - 0s - loss: 6.6013e-04\n",
      "Epoch 77/100\n",
      "72/72 - 0s - loss: 6.0853e-04\n",
      "Epoch 78/100\n",
      "72/72 - 0s - loss: 6.2560e-04\n",
      "Epoch 79/100\n",
      "72/72 - 0s - loss: 6.1662e-04\n",
      "Epoch 80/100\n",
      "72/72 - 0s - loss: 6.3050e-04\n",
      "Epoch 81/100\n",
      "72/72 - 0s - loss: 6.2560e-04\n",
      "Epoch 82/100\n",
      "72/72 - 0s - loss: 6.2872e-04\n",
      "Epoch 83/100\n",
      "72/72 - 0s - loss: 5.7278e-04\n",
      "Epoch 84/100\n",
      "72/72 - 0s - loss: 6.1968e-04\n",
      "Epoch 85/100\n",
      "72/72 - 0s - loss: 6.6194e-04\n",
      "Epoch 86/100\n",
      "72/72 - 0s - loss: 6.1111e-04\n",
      "Epoch 87/100\n",
      "72/72 - 0s - loss: 6.1297e-04\n",
      "Epoch 88/100\n",
      "72/72 - 0s - loss: 6.7118e-04\n",
      "Epoch 89/100\n",
      "72/72 - 0s - loss: 6.5047e-04\n",
      "Epoch 90/100\n",
      "72/72 - 0s - loss: 6.5798e-04\n",
      "Epoch 91/100\n",
      "72/72 - 0s - loss: 6.6120e-04\n",
      "Epoch 92/100\n",
      "72/72 - 0s - loss: 5.9225e-04\n",
      "Epoch 93/100\n",
      "72/72 - 0s - loss: 6.8204e-04\n",
      "Epoch 94/100\n",
      "72/72 - 0s - loss: 6.1234e-04\n",
      "Epoch 95/100\n",
      "72/72 - 0s - loss: 6.0100e-04\n",
      "Epoch 96/100\n",
      "72/72 - 0s - loss: 6.2211e-04\n",
      "Epoch 97/100\n",
      "72/72 - 0s - loss: 5.8657e-04\n",
      "Epoch 98/100\n",
      "72/72 - 0s - loss: 6.7456e-04\n",
      "Epoch 99/100\n",
      "72/72 - 0s - loss: 5.5988e-04\n",
      "Epoch 100/100\n",
      "72/72 - 0s - loss: 6.0822e-04\n"
     ]
    },
    {
     "data": {
      "text/plain": [
       "<tensorflow.python.keras.callbacks.History at 0x276d7d10348>"
      ]
     },
     "execution_count": 70,
     "metadata": {},
     "output_type": "execute_result"
    }
   ],
   "source": [
    "import numpy as np\n",
    "import pandas as pd\n",
    "import matplotlib.pyplot as plt\n",
    "%matplotlib inline\n",
    "import seaborn as sns\n",
    "from tensorflow.keras.models import Sequential\n",
    "from tensorflow.keras.layers import Activation,Dense,Flatten,RNN,LSTM\n",
    "from tensorflow.keras.utils import normalize,to_categorical\n",
    "from sklearn.metrics import mean_squared_error\n",
    "from sklearn.preprocessing import minmax_scale,MinMaxScaler\n",
    "import math\n",
    "\n",
    "df=pd.read_csv('airline.csv',index_col=0)\n",
    "\n",
    "df.shape\n",
    "\n",
    "df.index=pd.to_datetime(df.index)\n",
    "\n",
    "df['normal']=normalize(df['Passengers'].values)[0]\n",
    "df['mmscale']=minmax_scale(df['Passengers'].values)\n",
    "scaler=MinMaxScaler()\n",
    "df['scaled']=scaler.fit_transform(df['Passengers'].astype('float32').values.reshape(len(df),1))\n",
    "\n",
    "train=df.scaled.values[:int(0.67*len(df))]\n",
    "test=df.scaled.values[int(0.67*len(df)):]\n",
    "\n",
    "def getDatasets(d,lookback=1) :\n",
    "    x,y=[],[]\n",
    "    for i in range(lookback,len(d)-lookback) :\n",
    "        x.append(d[i-lookback:i])\n",
    "        y.append(d[i])\n",
    "    return np.array(x),np.array(y)\n",
    "\n",
    "lookback=12\n",
    "\n",
    "x_train,y_train=getDatasets(train,lookback)\n",
    "\n",
    "x_test,y_test=getDatasets(test,lookback)\n",
    "\n",
    "model=Sequential()\n",
    "\n",
    "model.add(LSTM(4,input_shape=(1,lookback)))\n",
    "\n",
    "model.add(Dense(1))\n",
    "\n",
    "model.compile(loss='mean_squared_error',optimizer='adam')\n",
    "\n",
    "model.fit(x_train.reshape(len(x_train),1,lookback),y_train,epochs=100,batch_size=1,verbose=2)"
   ]
  },
  {
   "cell_type": "code",
   "execution_count": 74,
   "metadata": {},
   "outputs": [],
   "source": [
    "train_pred=model.predict(x_train.reshape(len(x_train),1,lookback))\n",
    "test_pred=model.predict(x_test.reshape(len(x_test),1,lookback))\n",
    "\n",
    "train_pred=scaler.inverse_transform(train_pred)\n",
    "train_y=scaler.inverse_transform(y_train.reshape(len(y_train),1))\n",
    "test_pred=scaler.inverse_transform(test_pred)\n",
    "test_y=scaler.inverse_transform(y_test.reshape(len(y_test),1))"
   ]
  },
  {
   "cell_type": "code",
   "execution_count": 85,
   "metadata": {
    "scrolled": true
   },
   "outputs": [
    {
     "data": {
      "text/plain": [
       "12.172095633430382"
      ]
     },
     "execution_count": 85,
     "metadata": {},
     "output_type": "execute_result"
    }
   ],
   "source": [
    "math.sqrt(mean_squared_error(train_pred,train_y))"
   ]
  },
  {
   "cell_type": "code",
   "execution_count": 86,
   "metadata": {},
   "outputs": [
    {
     "data": {
      "text/plain": [
       "33.946679884714975"
      ]
     },
     "execution_count": 86,
     "metadata": {},
     "output_type": "execute_result"
    }
   ],
   "source": [
    "math.sqrt(mean_squared_error(test_pred,test_y))"
   ]
  },
  {
   "cell_type": "code",
   "execution_count": 84,
   "metadata": {},
   "outputs": [],
   "source": [
    "import math"
   ]
  },
  {
   "cell_type": "code",
   "execution_count": null,
   "metadata": {},
   "outputs": [],
   "source": []
  }
 ],
 "metadata": {
  "kernelspec": {
   "display_name": "Python 3",
   "language": "python",
   "name": "python3"
  },
  "language_info": {
   "codemirror_mode": {
    "name": "ipython",
    "version": 3
   },
   "file_extension": ".py",
   "mimetype": "text/x-python",
   "name": "python",
   "nbconvert_exporter": "python",
   "pygments_lexer": "ipython3",
   "version": "3.7.4"
  }
 },
 "nbformat": 4,
 "nbformat_minor": 2
}
